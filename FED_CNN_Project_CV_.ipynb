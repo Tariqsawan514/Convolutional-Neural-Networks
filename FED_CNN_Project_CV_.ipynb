{
  "cells": [
    {
      "cell_type": "markdown",
      "metadata": {
        "id": "view-in-github",
        "colab_type": "text"
      },
      "source": [
        "<a href=\"https://colab.research.google.com/github/FaizaAli-Dev/Convolutional-Neural-Network/blob/all-about-AI-and-Data-Science/FED_CNN_Project_CV_.ipynb\" target=\"_parent\"><img src=\"https://colab.research.google.com/assets/colab-badge.svg\" alt=\"Open In Colab\"/></a>"
      ]
    },
    {
      "cell_type": "markdown",
      "source": [
        "# Project Title: Expression Classification from Facial Images\n",
        "Learning Objectives:\n",
        "*   Understand the fundamentals of using a deep ConvNet\n",
        "*   Learn how to use Tensorflow/Keras\n",
        "*   Learn how to use Google Colab\n",
        "*   Learn how to train (fine-tune) a convolutional neural network architecture\n",
        "\n",
        "# Seven basic expression categories:\n",
        " “angry (0)”, “disgust (1)”, “fear (2)”, “happy (3)”, “sad (4)”, “surprise(5)”,or “neutral (6)”\n",
        "\n",
        "#Steps to follow\n",
        "•\tLine 1: Import the necessary libraries.\n",
        "\n",
        "•\tLine 2: Load the Expression in the Wild dataset.\n",
        "\n",
        "•\tLine 3: Preprocessing\n",
        "\n",
        "•\tLine 4: Create the CNN model.\n",
        "\n",
        "•\tLine 5-9: Add the convolutional layers to the model.\n",
        "\n",
        "•\tLine 10: Add the flattening layer to the model.\n",
        "\n",
        "•\tLine 11: Add the dense layers to the model.\n",
        "\n",
        "•\tLine 12: Compile the model.\n",
        "\n",
        "•\tLine 13: Train the model.\n",
        "\n",
        "•\tLine 14: Evaluate the model through visualization\n",
        "\n",
        "# Expressions can be useful for\n",
        "1.   Human-Computer Interaction based recommendation systems to determine whether to push product information or not.  \n",
        "2.   Determine the psychological state of a person during online interviews"
      ],
      "metadata": {
        "id": "tUoqc-D9ISEN"
      },
      "id": "tUoqc-D9ISEN"
    },
    {
      "cell_type": "code",
      "execution_count": null,
      "id": "1b3b5bb8",
      "metadata": {
        "id": "1b3b5bb8"
      },
      "outputs": [],
      "source": [
        "# Import the necessary libraries\n",
        "import os  # Operating system functions\n",
        "import tensorflow as tf  # TensorFlow library\n",
        "import matplotlib.pyplot as plt  # For data visualization\n",
        "from keras.models import Sequential  # Keras sequential model\n",
        "from keras.layers import Convolution2D, MaxPooling2D, Dense, Dropout, Flatten  # Different layers for the model\n",
        "from keras.optimizers import Adam  # Adam optimizer\n",
        "from keras.preprocessing.image import ImageDataGenerator  # Data augmentation\n",
        "import cv2  # OpenCV library for image processing"
      ]
    },
    {
      "cell_type": "code",
      "execution_count": null,
      "id": "94eefc2c",
      "metadata": {
        "id": "94eefc2c"
      },
      "outputs": [],
      "source": [
        "# Set the dataset path\n",
        "dataset_path = 'C:/Users/pc/Documents/d/facial_expression/Dataset'\n",
        "train_dir = dataset_path + '/train'\n",
        "test_dir = dataset_path + '/test'"
      ]
    },
    {
      "cell_type": "code",
      "execution_count": null,
      "id": "dbb7d369",
      "metadata": {
        "id": "dbb7d369"
      },
      "outputs": [],
      "source": [
        "validation_image_data_generator = ImageDataGenerator(rescale=1./255)"
      ]
    },
    {
      "cell_type": "code",
      "execution_count": null,
      "id": "878d7d87",
      "metadata": {
        "id": "878d7d87"
      },
      "outputs": [],
      "source": [
        "#Data augmentation parameters setting\n",
        "data_augumantation = ImageDataGenerator(\n",
        "    rotation_range=10,      #image rotation degree\n",
        "    width_shift_range=0.1,  #horizontal shift\n",
        "    height_shift_range=0.1, #vertical shift\n",
        "    shear_range=0.1,        #clockwise direction as radians\n",
        "    zoom_range=0.1,         #zoom range\n",
        "    horizontal_flip=True,   #flip images horizontally\n",
        "    fill_mode='nearest'   #pixel value scale [0,1]\n",
        ")"
      ]
    },
    {
      "cell_type": "code",
      "execution_count": null,
      "id": "2a9530bf",
      "metadata": {
        "id": "2a9530bf",
        "outputId": "d29d938b-e83a-4654-98f3-4268e04ef0cb"
      },
      "outputs": [
        {
          "name": "stdout",
          "output_type": "stream",
          "text": [
            "Found 32298 images belonging to 7 classes.\n",
            "Found 3589 images belonging to 7 classes.\n"
          ]
        }
      ],
      "source": [
        "batch_size = 128\n",
        "#size of the image: 48*48 pixels\n",
        "img_size = 48\n",
        "\n",
        "training_set = data_augumantation.flow_from_directory(train_dir,\n",
        "                                                      target_size=(img_size,img_size),\n",
        "                                                      color_mode=\"grayscale\",\n",
        "                                                      batch_size=batch_size,\n",
        "                                                      class_mode='categorical',\n",
        "                                                      shuffle=True)\n",
        "\n",
        "Test_set = data_augumantation.flow_from_directory(test_dir,\n",
        "                                                  target_size=(img_size,img_size),\n",
        "                                                  color_mode=\"grayscale\",\n",
        "                                                  batch_size=batch_size,\n",
        "                                                  class_mode='categorical',\n",
        "                                                  shuffle=False)"
      ]
    },
    {
      "cell_type": "code",
      "execution_count": null,
      "id": "1742796b",
      "metadata": {
        "id": "1742796b"
      },
      "outputs": [],
      "source": [
        "# data cleaning\n",
        "classes = os.listdir(train_dir)\n",
        "images = []\n",
        "\n",
        "clean_images = []\n",
        "for i in range(len(images)):\n",
        "    if os.path.exists(image_paths[i]):\n",
        "        clean_images.append(images[i])\n",
        "\n",
        "images = clean_images"
      ]
    },
    {
      "cell_type": "code",
      "execution_count": null,
      "id": "4cdfe44f",
      "metadata": {
        "id": "4cdfe44f",
        "outputId": "defc67b7-e0d5-4dcb-804b-cfa10f5e1183"
      },
      "outputs": [
        {
          "data": {
            "text/plain": [
              "{'anger': 0,\n",
              " 'disgust': 1,\n",
              " 'fear': 2,\n",
              " 'happiness': 3,\n",
              " 'neutral': 4,\n",
              " 'sadness': 5,\n",
              " 'surprise': 6}"
            ]
          },
          "execution_count": 7,
          "metadata": {},
          "output_type": "execute_result"
        }
      ],
      "source": [
        "training_set.class_indices"
      ]
    },
    {
      "cell_type": "code",
      "execution_count": null,
      "id": "5ae6eabd",
      "metadata": {
        "id": "5ae6eabd",
        "outputId": "b885b7ca-5b44-40b3-a28a-c430da84acdd"
      },
      "outputs": [
        {
          "name": "stdout",
          "output_type": "stream",
          "text": [
            "Model: \"sequential\"\n",
            "_________________________________________________________________\n",
            " Layer (type)                Output Shape              Param #   \n",
            "=================================================================\n",
            " conv2d (Conv2D)             (None, 48, 48, 32)        320       \n",
            "                                                                 \n",
            " max_pooling2d (MaxPooling2  (None, 24, 24, 32)        0         \n",
            " D)                                                              \n",
            "                                                                 \n",
            " conv2d_1 (Conv2D)           (None, 24, 24, 64)        18496     \n",
            "                                                                 \n",
            " max_pooling2d_1 (MaxPoolin  (None, 12, 12, 64)        0         \n",
            " g2D)                                                            \n",
            "                                                                 \n",
            " flatten (Flatten)           (None, 9216)              0         \n",
            "                                                                 \n",
            " dense (Dense)               (None, 256)               2359552   \n",
            "                                                                 \n",
            " dense_1 (Dense)             (None, 512)               131584    \n",
            "                                                                 \n",
            " dense_2 (Dense)             (None, 7)                 3591      \n",
            "                                                                 \n",
            "=================================================================\n",
            "Total params: 2513543 (9.59 MB)\n",
            "Trainable params: 2513543 (9.59 MB)\n",
            "Non-trainable params: 0 (0.00 Byte)\n",
            "_________________________________________________________________\n",
            "None\n"
          ]
        }
      ],
      "source": [
        "from keras.layers import Conv2D,Input, MaxPooling2D, Dropout, Flatten, Dense, Activation\n",
        "from keras.models import Model, Sequential\n",
        "from keras.optimizers import Adam\n",
        "\n",
        "# no of labels\n",
        "total_classes= 7\n",
        "\n",
        "# Initialising the CNN\n",
        "FEM_model = Sequential()\n",
        "\n",
        "#1st CNN layer\n",
        "FEM_model.add(Conv2D(32, kernel_size=(3, 3), padding='same', activation='relu', input_shape=(48, 48,1))) #1\n",
        "FEM_model.add(MaxPooling2D(pool_size=(2, 2)))\n",
        "#2nd CNN layer\n",
        "FEM_model.add(Conv2D(64,(3,3), padding='same', activation='relu' ))\n",
        "FEM_model.add(MaxPooling2D(pool_size=(2, 2)))\n",
        "\n",
        "# Flatten layer\n",
        "FEM_model.add(Flatten())\n",
        "\n",
        "#Fully connected 1st layer\n",
        "FEM_model.add(Dense(256,activation = 'relu'))\n",
        "#Fully connected layer 2nd layer\n",
        "FEM_model.add(Dense(512,activation = 'relu'))\n",
        "\n",
        "FEM_model.add(Dense(total_classes, activation='softmax'))\n",
        "\n",
        "opt = Adam(learning_rate=0.0001)\n",
        "FEM_model.compile(optimizer=opt, loss='categorical_crossentropy', metrics=['accuracy'])\n",
        "print(FEM_model.summary())"
      ]
    },
    {
      "cell_type": "code",
      "execution_count": null,
      "id": "e4cac8b0",
      "metadata": {
        "id": "e4cac8b0",
        "outputId": "0da7b97e-3404-4ddf-ff75-f0f94cd3d467"
      },
      "outputs": [
        {
          "name": "stdout",
          "output_type": "stream",
          "text": [
            "Epoch 1/50\n",
            "253/253 [==============================] - 52s 205ms/step - loss: 2.2417 - accuracy: 0.2405 - val_loss: 1.8010 - val_accuracy: 0.2942\n",
            "Epoch 2/50\n",
            "253/253 [==============================] - 50s 198ms/step - loss: 1.7739 - accuracy: 0.3025 - val_loss: 1.7154 - val_accuracy: 0.3277\n",
            "Epoch 3/50\n",
            "253/253 [==============================] - 50s 197ms/step - loss: 1.7006 - accuracy: 0.3342 - val_loss: 1.6445 - val_accuracy: 0.3505\n",
            "Epoch 4/50\n",
            "253/253 [==============================] - 50s 199ms/step - loss: 1.6569 - accuracy: 0.3571 - val_loss: 1.6277 - val_accuracy: 0.3586\n",
            "Epoch 5/50\n",
            "253/253 [==============================] - 51s 201ms/step - loss: 1.6129 - accuracy: 0.3749 - val_loss: 1.6238 - val_accuracy: 0.3803\n",
            "Epoch 6/50\n",
            "253/253 [==============================] - 52s 206ms/step - loss: 1.5908 - accuracy: 0.3851 - val_loss: 1.6048 - val_accuracy: 0.3845\n",
            "Epoch 7/50\n",
            "253/253 [==============================] - 50s 197ms/step - loss: 1.5608 - accuracy: 0.3967 - val_loss: 1.5555 - val_accuracy: 0.3943\n",
            "Epoch 8/50\n",
            "253/253 [==============================] - 52s 204ms/step - loss: 1.5418 - accuracy: 0.4073 - val_loss: 1.5553 - val_accuracy: 0.3951\n",
            "Epoch 9/50\n",
            "253/253 [==============================] - 50s 198ms/step - loss: 1.5231 - accuracy: 0.4126 - val_loss: 1.5400 - val_accuracy: 0.4168\n",
            "Epoch 10/50\n",
            "253/253 [==============================] - 50s 196ms/step - loss: 1.5020 - accuracy: 0.4234 - val_loss: 1.5098 - val_accuracy: 0.4182\n",
            "Epoch 11/50\n",
            "253/253 [==============================] - 50s 196ms/step - loss: 1.4884 - accuracy: 0.4302 - val_loss: 1.5001 - val_accuracy: 0.4121\n",
            "Epoch 12/50\n",
            "253/253 [==============================] - 50s 196ms/step - loss: 1.4644 - accuracy: 0.4406 - val_loss: 1.4546 - val_accuracy: 0.4363\n",
            "Epoch 13/50\n",
            "253/253 [==============================] - 50s 196ms/step - loss: 1.4495 - accuracy: 0.4450 - val_loss: 1.4441 - val_accuracy: 0.4441\n",
            "Epoch 14/50\n",
            "253/253 [==============================] - 50s 196ms/step - loss: 1.4299 - accuracy: 0.4531 - val_loss: 1.4426 - val_accuracy: 0.4344\n",
            "Epoch 15/50\n",
            "253/253 [==============================] - 50s 198ms/step - loss: 1.4176 - accuracy: 0.4557 - val_loss: 1.4379 - val_accuracy: 0.4405\n",
            "Epoch 16/50\n",
            "253/253 [==============================] - 51s 199ms/step - loss: 1.4039 - accuracy: 0.4639 - val_loss: 1.3919 - val_accuracy: 0.4659\n",
            "Epoch 17/50\n",
            "253/253 [==============================] - 50s 199ms/step - loss: 1.3884 - accuracy: 0.4689 - val_loss: 1.3905 - val_accuracy: 0.4667\n",
            "Epoch 18/50\n",
            "253/253 [==============================] - 50s 199ms/step - loss: 1.3730 - accuracy: 0.4749 - val_loss: 1.3973 - val_accuracy: 0.4661\n",
            "Epoch 19/50\n",
            "253/253 [==============================] - 50s 199ms/step - loss: 1.3593 - accuracy: 0.4825 - val_loss: 1.3694 - val_accuracy: 0.4728\n",
            "Epoch 20/50\n",
            "253/253 [==============================] - 50s 199ms/step - loss: 1.3456 - accuracy: 0.4875 - val_loss: 1.3680 - val_accuracy: 0.4748\n",
            "Epoch 21/50\n",
            "253/253 [==============================] - 50s 199ms/step - loss: 1.3334 - accuracy: 0.4895 - val_loss: 1.3480 - val_accuracy: 0.4865\n",
            "Epoch 22/50\n",
            "253/253 [==============================] - 51s 203ms/step - loss: 1.3203 - accuracy: 0.4972 - val_loss: 1.3421 - val_accuracy: 0.4898\n",
            "Epoch 23/50\n",
            "253/253 [==============================] - 53s 208ms/step - loss: 1.3104 - accuracy: 0.4981 - val_loss: 1.3330 - val_accuracy: 0.4865\n",
            "Epoch 24/50\n",
            "253/253 [==============================] - 51s 203ms/step - loss: 1.2984 - accuracy: 0.5071 - val_loss: 1.3215 - val_accuracy: 0.5040\n",
            "Epoch 25/50\n",
            "253/253 [==============================] - 52s 206ms/step - loss: 1.2835 - accuracy: 0.5089 - val_loss: 1.3218 - val_accuracy: 0.4876\n",
            "Epoch 26/50\n",
            "253/253 [==============================] - 51s 203ms/step - loss: 1.2708 - accuracy: 0.5132 - val_loss: 1.3040 - val_accuracy: 0.5088\n",
            "Epoch 27/50\n",
            "253/253 [==============================] - 52s 204ms/step - loss: 1.2676 - accuracy: 0.5173 - val_loss: 1.2940 - val_accuracy: 0.5032\n",
            "Epoch 28/50\n",
            "253/253 [==============================] - 52s 203ms/step - loss: 1.2559 - accuracy: 0.5217 - val_loss: 1.3066 - val_accuracy: 0.4954\n",
            "Epoch 29/50\n",
            "253/253 [==============================] - 52s 204ms/step - loss: 1.2488 - accuracy: 0.5290 - val_loss: 1.2826 - val_accuracy: 0.5013\n",
            "Epoch 30/50\n",
            "253/253 [==============================] - 52s 204ms/step - loss: 1.2397 - accuracy: 0.5313 - val_loss: 1.2789 - val_accuracy: 0.5143\n",
            "Epoch 31/50\n",
            "253/253 [==============================] - 52s 204ms/step - loss: 1.2367 - accuracy: 0.5316 - val_loss: 1.2592 - val_accuracy: 0.5224\n",
            "Epoch 32/50\n",
            "253/253 [==============================] - 51s 202ms/step - loss: 1.2206 - accuracy: 0.5372 - val_loss: 1.2513 - val_accuracy: 0.5210\n",
            "Epoch 33/50\n",
            "253/253 [==============================] - 51s 202ms/step - loss: 1.2126 - accuracy: 0.5418 - val_loss: 1.2557 - val_accuracy: 0.5191\n",
            "Epoch 34/50\n",
            "253/253 [==============================] - 51s 203ms/step - loss: 1.2090 - accuracy: 0.5428 - val_loss: 1.2403 - val_accuracy: 0.5266\n",
            "Epoch 35/50\n",
            "253/253 [==============================] - 51s 202ms/step - loss: 1.1931 - accuracy: 0.5480 - val_loss: 1.2321 - val_accuracy: 0.5341\n",
            "Epoch 36/50\n",
            "253/253 [==============================] - 52s 204ms/step - loss: 1.1898 - accuracy: 0.5495 - val_loss: 1.2373 - val_accuracy: 0.5308\n",
            "Epoch 37/50\n",
            "253/253 [==============================] - 52s 204ms/step - loss: 1.1807 - accuracy: 0.5529 - val_loss: 1.2644 - val_accuracy: 0.5202\n",
            "Epoch 38/50\n",
            "253/253 [==============================] - 52s 204ms/step - loss: 1.1689 - accuracy: 0.5596 - val_loss: 1.2196 - val_accuracy: 0.5419\n",
            "Epoch 39/50\n",
            "253/253 [==============================] - 52s 204ms/step - loss: 1.1641 - accuracy: 0.5616 - val_loss: 1.2304 - val_accuracy: 0.5364\n",
            "Epoch 40/50\n",
            "253/253 [==============================] - 51s 202ms/step - loss: 1.1605 - accuracy: 0.5591 - val_loss: 1.2368 - val_accuracy: 0.5247\n",
            "Epoch 41/50\n",
            "253/253 [==============================] - 52s 206ms/step - loss: 1.1518 - accuracy: 0.5659 - val_loss: 1.2074 - val_accuracy: 0.5472\n",
            "Epoch 42/50\n",
            "253/253 [==============================] - 53s 207ms/step - loss: 1.1413 - accuracy: 0.5701 - val_loss: 1.2265 - val_accuracy: 0.5274\n",
            "Epoch 43/50\n",
            "253/253 [==============================] - 52s 205ms/step - loss: 1.1458 - accuracy: 0.5716 - val_loss: 1.2138 - val_accuracy: 0.5325\n",
            "Epoch 44/50\n",
            "253/253 [==============================] - 51s 202ms/step - loss: 1.1319 - accuracy: 0.5709 - val_loss: 1.1994 - val_accuracy: 0.5400\n",
            "Epoch 45/50\n",
            "253/253 [==============================] - 51s 201ms/step - loss: 1.1250 - accuracy: 0.5751 - val_loss: 1.2164 - val_accuracy: 0.5436\n",
            "Epoch 46/50\n",
            "253/253 [==============================] - 50s 198ms/step - loss: 1.1186 - accuracy: 0.5793 - val_loss: 1.1980 - val_accuracy: 0.5511\n",
            "Epoch 47/50\n",
            "253/253 [==============================] - 50s 198ms/step - loss: 1.1172 - accuracy: 0.5808 - val_loss: 1.1987 - val_accuracy: 0.5394\n",
            "Epoch 48/50\n",
            "253/253 [==============================] - 52s 205ms/step - loss: 1.1091 - accuracy: 0.5835 - val_loss: 1.2058 - val_accuracy: 0.5461\n",
            "Epoch 49/50\n",
            "253/253 [==============================] - 51s 202ms/step - loss: 1.1065 - accuracy: 0.5868 - val_loss: 1.1926 - val_accuracy: 0.5603\n",
            "Epoch 50/50\n",
            "253/253 [==============================] - 51s 202ms/step - loss: 1.0979 - accuracy: 0.5878 - val_loss: 1.1818 - val_accuracy: 0.5556\n"
          ]
        }
      ],
      "source": [
        "emotion_model_info = FEM_model.fit(\n",
        "        training_set ,\n",
        "        epochs=50,\n",
        "        validation_data=Test_set)"
      ]
    },
    {
      "cell_type": "code",
      "execution_count": null,
      "id": "2cb04aeb",
      "metadata": {
        "id": "2cb04aeb"
      },
      "outputs": [],
      "source": [
        "import tensorflow as tf\n",
        "%reload_ext tensorboard"
      ]
    },
    {
      "cell_type": "code",
      "execution_count": null,
      "id": "518cca44",
      "metadata": {
        "id": "518cca44",
        "outputId": "af9dc3c4-f6d6-4fa5-8fcb-c8bb3c65ff92"
      },
      "outputs": [
        {
          "data": {
            "text/plain": [
              "ERROR: Could not find `tensorboard`. Please ensure that your PATH\n",
              "contains an executable `tensorboard` program, or explicitly specify\n",
              "the path to a TensorBoard binary by setting the `TENSORBOARD_BINARY`\n",
              "environment variable."
            ]
          },
          "metadata": {},
          "output_type": "display_data"
        }
      ],
      "source": [
        "%tensorboard --logdir logs/fit/"
      ]
    },
    {
      "cell_type": "code",
      "execution_count": null,
      "id": "3112031b",
      "metadata": {
        "id": "3112031b"
      },
      "outputs": [],
      "source": [
        "# Access the training history\n",
        "training_accuracy = emotion_model_info.history['accuracy']\n",
        "validation_accuracy = emotion_model_info.history['val_accuracy']\n",
        "training_loss = emotion_model_info.history['loss']\n",
        "validation_loss = emotion_model_info.history['val_loss']"
      ]
    },
    {
      "cell_type": "code",
      "execution_count": null,
      "id": "df88066d",
      "metadata": {
        "id": "df88066d",
        "outputId": "3c6c9406-73e7-4732-e0c1-2084abc783d8"
      },
      "outputs": [
        {
          "data": {
            "text/plain": [
              "<matplotlib.legend.Legend at 0x20207578190>"
            ]
          },
          "execution_count": 21,
          "metadata": {},
          "output_type": "execute_result"
        },
        {
          "data": {
            "image/png": "[encoded data removed]",
            "text/plain": [
              "<Figure size 1000x500 with 1 Axes>"
            ]
          },
          "metadata": {},
          "output_type": "display_data"
        }
      ],
      "source": [
        "# Plot training and validation accuracy\n",
        "plt.figure(figsize=(10, 5))\n",
        "plt.subplot(1, 2, 1)\n",
        "plt.plot(training_accuracy, label='Training Accuracy')\n",
        "plt.plot(validation_accuracy, label='Validation Accuracy')\n",
        "plt.title('Training and Validation Accuracy')\n",
        "plt.xlabel('Epoch')\n",
        "plt.ylabel('Accuracy')\n",
        "plt.legend()"
      ]
    },
    {
      "cell_type": "code",
      "execution_count": null,
      "id": "64b28f96",
      "metadata": {
        "id": "64b28f96",
        "outputId": "1f70ba7d-0162-4859-d34f-44cb51d4c1f2"
      },
      "outputs": [
        {
          "data": {
            "image/png": "[encoded data removed]",
            "text/plain": [
              "<Figure size 640x480 with 1 Axes>"
            ]
          },
          "metadata": {},
          "output_type": "display_data"
        }
      ],
      "source": [
        "# Plot training and validation loss\n",
        "plt.subplot(1, 2, 2)\n",
        "plt.plot(training_loss, label='Training Loss')\n",
        "plt.plot(validation_loss, label='Validation Loss')\n",
        "plt.title('Training and Validation Loss')\n",
        "plt.xlabel('Epoch')\n",
        "plt.ylabel('Loss')\n",
        "plt.legend()\n",
        "\n",
        "plt.tight_layout()\n",
        "plt.show()"
      ]
    },
    {
      "cell_type": "code",
      "execution_count": null,
      "id": "78a1534a",
      "metadata": {
        "id": "78a1534a"
      },
      "outputs": [],
      "source": []
    }
  ],
  "metadata": {
    "kernelspec": {
      "display_name": "Python 3 (ipykernel)",
      "language": "python",
      "name": "python3"
    },
    "language_info": {
      "codemirror_mode": {
        "name": "ipython",
        "version": 3
      },
      "file_extension": ".py",
      "mimetype": "text/x-python",
      "name": "python",
      "nbconvert_exporter": "python",
      "pygments_lexer": "ipython3",
      "version": "3.11.4"
    },
    "colab": {
      "provenance": [],
      "include_colab_link": true
    }
  },
  "nbformat": 4,
  "nbformat_minor": 5
}